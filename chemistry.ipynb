{
 "cells": [
  {
   "cell_type": "code",
   "execution_count": 27,
   "metadata": {},
   "outputs": [],
   "source": [
    "import cudaq\n",
    "from typing import List\n",
    "import numpy as np \n",
    "\n",
    "from cudaq import spin\n",
    "from scipy.optimize import minimize\n",
    "\n",
    "\n",
    "cudaq.set_target(\"nvidia\")\n",
    "\n",
    "m = 3  #num of data samples \n",
    "\n",
    "\n",
    "#there is a way to do amplitude encdoing - "
   ]
  },
  {
   "cell_type": "code",
   "execution_count": 28,
   "metadata": {},
   "outputs": [],
   "source": [
    "@cudaq.kernel\n",
    "def kernel(data: np.ndarray, angles: np.ndarray):\n",
    "    \n",
    "    qubits = cudaq.qvector(2)\n",
    "    \n",
    "    rx(data[0], qubits[0])\n",
    "    rx(data[1], qubits[1])\n",
    "    \n",
    "    \n",
    "    \n",
    "    ry(angles[0], qubits[0])\n",
    "    ry(angles[1], qubits[1])\n",
    "\n",
    "\n",
    "hamiltonian = spin.z(0) + spin.z(1)*spin.x(0)\n",
    "\n",
    "angle_values = np.random.rand(m, 2)\n",
    "data_values  = np.random.rand(m, 2)\n",
    "\n",
    "\n",
    "# svs = []\n",
    "# for i in range(m): \n",
    "#     svs.append(np.array(cudaq.get_state(kernel, data_values[i], angle_values[i])))\n",
    "\n"
   ]
  },
  {
   "cell_type": "code",
   "execution_count": 35,
   "metadata": {},
   "outputs": [],
   "source": [
    "cost_values = []\n",
    "\n",
    "def cost(angle_values):\n",
    "\n",
    "    result  = cudaq.observe(kernel, hamiltonian, data_values, angle_values)\n",
    "    expectation_value = [result[i].expectation() for i in range(len(result))]\n",
    "    \n",
    "    cost_values.append(expectation_value)\n",
    "\n",
    "    return expectation_value"
   ]
  },
  {
   "cell_type": "code",
   "execution_count": 36,
   "metadata": {},
   "outputs": [
    {
     "data": {
      "text/plain": [
       "[0.8401305638253689, 0.7573174014687538, 1.0545024272287264]"
      ]
     },
     "execution_count": 36,
     "metadata": {},
     "output_type": "execute_result"
    }
   ],
   "source": [
    "cost(angle_values)"
   ]
  },
  {
   "cell_type": "code",
   "execution_count": null,
   "metadata": {},
   "outputs": [],
   "source": []
  },
  {
   "cell_type": "code",
   "execution_count": null,
   "metadata": {},
   "outputs": [],
   "source": []
  },
  {
   "cell_type": "code",
   "execution_count": null,
   "metadata": {},
   "outputs": [],
   "source": []
  }
 ],
 "metadata": {
  "kernelspec": {
   "display_name": "Python 3",
   "language": "python",
   "name": "python3"
  },
  "language_info": {
   "codemirror_mode": {
    "name": "ipython",
    "version": 3
   },
   "file_extension": ".py",
   "mimetype": "text/x-python",
   "name": "python",
   "nbconvert_exporter": "python",
   "pygments_lexer": "ipython3",
   "version": "3.10.12"
  },
  "orig_nbformat": 4,
  "vscode": {
   "interpreter": {
    "hash": "31f2aee4e71d21fbe5cf8b01ff0e069b9275f58929596ceb00d14d90e3e16cd6"
   }
  }
 },
 "nbformat": 4,
 "nbformat_minor": 2
}
