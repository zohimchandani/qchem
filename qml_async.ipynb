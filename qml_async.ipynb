{
 "cells": [
  {
   "cell_type": "code",
   "execution_count": 4,
   "metadata": {},
   "outputs": [],
   "source": [
    "import cudaq\n",
    "from typing import List\n",
    "import numpy as np \n",
    "from cudaq import spin\n",
    "from scipy.optimize import minimize\n",
    "from scipy.special import softmax\n",
    "import matplotlib.pyplot as plt\n",
    "from sklearn.metrics import roc_auc_score, roc_curve, auc\n",
    "\n",
    "cudaq.set_target(\"nvidia-mqpu\")\n",
    "target = cudaq.get_target()\n",
    "num_qpus = target.num_qpus()\n",
    "\n",
    "\n",
    "df_input = np.loadtxt(\"qc_pca_train_input_bace_12q2\")\n",
    "df_classes = np.loadtxt(\"qc_pca_train_classes_bace_12q2\") - 1\n",
    "\n",
    "df_test_input = np.loadtxt(\"qc_pca_test_input_bace_12q2\")\n",
    "df_test_classes = np.loadtxt(\"qc_pca_test_classes_bace_12q2\") - 1\n",
    "\n",
    "m = df_classes.size  #Number of data samples \n",
    "num_classes = int(max(df_classes)) + 1 #Number of classes\n",
    "num_qubits = df_input.shape[1]\n",
    "ansatz_layers = 2\n",
    "maxiter = 10\n",
    "num_theta = num_qubits * ansatz_layers\n",
    "theta_values = np.zeros(num_theta)\n",
    "# theta_values = np.array([-0.879411278071147, -2.163050261905418])\n",
    "data_values  = df_input\n",
    "class_values = df_classes\n",
    "\n",
    "def gen_default_prob_class(num_qubits, num_classes):\n",
    "    prob_class = np.zeros(2**num_qubits)\n",
    "    for i in range(2**num_qubits):\n",
    "        prob_class[i] = i % num_classes\n",
    "    return prob_class\n",
    "\n",
    "prob_class = gen_default_prob_class(num_qubits, num_classes)"
   ]
  },
  {
   "cell_type": "code",
   "execution_count": 5,
   "metadata": {},
   "outputs": [],
   "source": [
    "@cudaq.kernel\n",
    "def kernel(data: np.ndarray, theta: np.ndarray):\n",
    "    \n",
    "    q = cudaq.qvector(num_qubits)\n",
    "    \n",
    "    #Data encoding\n",
    "    for i in range(num_qubits):\n",
    "        ry(data[i], q[num_qubits-i-1])\n",
    "    for i in range(num_qubits - 1):\n",
    "        x.ctrl(q[i + 1], q[i])\n",
    "\n",
    "    #Parameterised ansatz\n",
    "    for i in range(ansatz_layers):\n",
    "        for j in range(num_qubits):\n",
    "            ry(theta[i * num_qubits + j], q[num_qubits-j-1])\n",
    "        for j in range(num_qubits - 1):\n",
    "            x.ctrl(q[j + 1], q[j])\n",
    "\n",
    "def cost_function(theta_values):\n",
    "    cost = 0.0\n",
    "    \n",
    "    qpu_counter = 0 \n",
    "    for i in range(m):\n",
    "        c = 0.0\n",
    "        \n",
    "        sv = np.array(cudaq.get_state_async(kernel, data_values[i], theta_values), qpu_id = i)\n",
    "        \n",
    "        if qpu_counter%num_qpus == 0: \n",
    "            qpu_counter = 0 \n",
    "\n",
    "        prob = softmax(np.real(np.abs(sv) ** 2))\n",
    "        for j in range(2**num_qubits):\n",
    "            if prob_class[j] == class_values[i]:\n",
    "                c += prob[j]\n",
    "        cost += -np.log(c)\n",
    "    cost = cost / m\n",
    "    return cost\n",
    "\n",
    "def find_prob(data, theta, classes):\n",
    "    p = np.zeros(len(data))\n",
    "    for i in range(len(data)):\n",
    "        c = 0.0\n",
    "        sv = np.array(cudaq.get_state(kernel, data[i], theta))\n",
    "        prob = np.real(np.abs(sv) ** 2)\n",
    "        for j in range(2**num_qubits):\n",
    "            if prob_class[j] == classes[i]:\n",
    "                c += prob[j]\n",
    "        p[i] = c\n",
    "    return p"
   ]
  },
  {
   "cell_type": "code",
   "execution_count": 6,
   "metadata": {},
   "outputs": [],
   "source": [
    "\n",
    "m = 10000\n",
    "data_values = np.random.rand(m, 2)"
   ]
  },
  {
   "cell_type": "code",
   "execution_count": 7,
   "metadata": {},
   "outputs": [],
   "source": [
    "results = []\n",
    "for i in range(m): \n",
    "    \n",
    "    results.append(cudaq.get_state_async(kernel, data_values[i], theta_values, qpu_id = 0))\n",
    "\n",
    "svs = []\n",
    "for i in range(len(results)): \n",
    "    svs.append(np.array(results[i].get()))\n"
   ]
  },
  {
   "cell_type": "code",
   "execution_count": 8,
   "metadata": {},
   "outputs": [],
   "source": [
    "results = []\n",
    "\n",
    "qpu_counter = 0 \n",
    "\n",
    "for i in range(m): \n",
    "    \n",
    "    results.append(cudaq.get_state_async(kernel, data_values[i], theta_values, qpu_id = qpu_counter))\n",
    "    \n",
    "    qpu_counter += 1 \n",
    "\n",
    "    if qpu_counter%num_qpus == 0: \n",
    "        qpu_counter = 0 \n",
    "\n",
    "svs = []\n",
    "for i in range(len(results)): \n",
    "    svs.append(np.array(results[i].get()))\n",
    "    "
   ]
  },
  {
   "cell_type": "code",
   "execution_count": null,
   "metadata": {},
   "outputs": [],
   "source": []
  },
  {
   "cell_type": "code",
   "execution_count": 9,
   "metadata": {},
   "outputs": [
    {
     "ename": "TypeError",
     "evalue": "array() got an unexpected keyword argument 'qpu_id'",
     "output_type": "error",
     "traceback": [
      "\u001b[0;31m---------------------------------------------------------------------------\u001b[0m",
      "\u001b[0;31mTypeError\u001b[0m                                 Traceback (most recent call last)",
      "Cell \u001b[0;32mIn[9], line 3\u001b[0m\n\u001b[1;32m      1\u001b[0m loss \u001b[39m=\u001b[39m []\n\u001b[0;32m----> 3\u001b[0m loss\u001b[39m.\u001b[39mappend(cost_function(theta_values))\n\u001b[1;32m      6\u001b[0m \u001b[39mdef\u001b[39;00m \u001b[39mcallback\u001b[39m(xk):\n\u001b[1;32m      7\u001b[0m     result \u001b[39m=\u001b[39m cost_function(xk)\n",
      "Cell \u001b[0;32mIn[5], line 26\u001b[0m, in \u001b[0;36mcost_function\u001b[0;34m(theta_values)\u001b[0m\n\u001b[1;32m     23\u001b[0m \u001b[39mfor\u001b[39;00m i \u001b[39min\u001b[39;00m \u001b[39mrange\u001b[39m(m):\n\u001b[1;32m     24\u001b[0m     c \u001b[39m=\u001b[39m \u001b[39m0.0\u001b[39m\n\u001b[0;32m---> 26\u001b[0m     sv \u001b[39m=\u001b[39m np\u001b[39m.\u001b[39;49marray(cudaq\u001b[39m.\u001b[39;49mget_state_async(kernel, data_values[i], theta_values), qpu_id \u001b[39m=\u001b[39;49m i)\n\u001b[1;32m     28\u001b[0m     \u001b[39mif\u001b[39;00m qpu_counter\u001b[39m%\u001b[39mnum_qpus \u001b[39m==\u001b[39m \u001b[39m0\u001b[39m: \n\u001b[1;32m     29\u001b[0m         qpu_counter \u001b[39m=\u001b[39m \u001b[39m0\u001b[39m \n",
      "\u001b[0;31mTypeError\u001b[0m: array() got an unexpected keyword argument 'qpu_id'"
     ]
    }
   ],
   "source": [
    "loss = []\n",
    "\n",
    "loss.append(cost_function(theta_values))\n",
    "\n",
    "\n",
    "def callback(xk):\n",
    "    result = cost_function(xk)\n",
    "    print(result, xk)\n",
    "    loss.append(result)\n",
    "    \n",
    "    \n",
    "result = minimize(cost_function, theta_values, method='COBYLA', callback=callback, options={'maxiter': maxiter})"
   ]
  },
  {
   "cell_type": "code",
   "execution_count": null,
   "metadata": {},
   "outputs": [],
   "source": [
    "plt.plot(loss)"
   ]
  },
  {
   "cell_type": "code",
   "execution_count": null,
   "metadata": {},
   "outputs": [],
   "source": [
    "t_final = result.x\n",
    "p_final = find_prob(data_values,t_final, class_values)\n",
    "print(p_final)"
   ]
  },
  {
   "cell_type": "code",
   "execution_count": null,
   "metadata": {},
   "outputs": [],
   "source": [
    "print(loss[1:])"
   ]
  },
  {
   "cell_type": "code",
   "execution_count": null,
   "metadata": {},
   "outputs": [],
   "source": [
    "#Use only for binary classification\n",
    "p_refined = np.zeros(m)\n",
    "for i in range(m):\n",
    "    if class_values[i] == 1:\n",
    "        p_refined[i] = p_final[i]\n",
    "    else:\n",
    "        p_refined[i] = 1 - p_final[i]\n",
    "roc_auc_score(class_values, p_refined)"
   ]
  },
  {
   "cell_type": "code",
   "execution_count": null,
   "metadata": {},
   "outputs": [],
   "source": [
    "# Compute ROC curve\n",
    "fpr, tpr, thresholds = roc_curve(class_values, p_refined)\n",
    "\n",
    "# Compute ROC AUC\n",
    "roc_auc = auc(fpr, tpr)\n",
    "\n",
    "# Plot ROC curve\n",
    "plt.figure()\n",
    "plt.plot(fpr, tpr, color='darkorange', lw=2, label='ROC curve (area = %0.2f)' % roc_auc)\n",
    "plt.plot([0, 1], [0, 1], color='navy', lw=2, linestyle='--')\n",
    "plt.xlim([0.0, 1.0])\n",
    "plt.ylim([0.0, 1.0])\n",
    "plt.xlabel('False Positive Rate')\n",
    "plt.ylabel('True Positive Rate')\n",
    "plt.title('Receiver Operating Characteristic (ROC) Curve')\n",
    "plt.legend(loc=\"lower right\")\n",
    "plt.show()"
   ]
  },
  {
   "cell_type": "code",
   "execution_count": null,
   "metadata": {},
   "outputs": [],
   "source": [
    "p_test_final = find_prob(df_test_input,t_final, df_test_classes)\n",
    "#Use only for binary classification\n",
    "p_test_refined = np.zeros(len(df_test_classes))\n",
    "for i in range(len(df_test_classes)):\n",
    "    if df_test_classes[i] == 1:\n",
    "        p_test_refined[i] = p_final[i]\n",
    "    else:\n",
    "        p_test_refined[i] = 1 - p_test_final[i]\n",
    "roc_auc_score(df_test_classes, p_test_refined)"
   ]
  }
 ],
 "metadata": {
  "kernelspec": {
   "display_name": "Python 3",
   "language": "python",
   "name": "python3"
  },
  "language_info": {
   "codemirror_mode": {
    "name": "ipython",
    "version": 3
   },
   "file_extension": ".py",
   "mimetype": "text/x-python",
   "name": "python",
   "nbconvert_exporter": "python",
   "pygments_lexer": "ipython3",
   "version": "3.10.12 (main, Nov 20 2023, 15:14:05) [GCC 11.4.0]"
  },
  "orig_nbformat": 4,
  "vscode": {
   "interpreter": {
    "hash": "31f2aee4e71d21fbe5cf8b01ff0e069b9275f58929596ceb00d14d90e3e16cd6"
   }
  }
 },
 "nbformat": 4,
 "nbformat_minor": 2
}
